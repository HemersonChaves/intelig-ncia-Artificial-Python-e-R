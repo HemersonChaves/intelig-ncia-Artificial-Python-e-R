{
 "cells": [
  {
   "cell_type": "markdown",
   "metadata": {},
   "source": [
    "# Aplicação do algoritmo genético \n",
    "## Transporte de cargas\n",
    "\n",
    "otimização dos transporte de mercadoria  dentro de um caminhão baú\n",
    "\n",
    "Para a execução do algoritmo é necessário utilizar as bibliotecas \n",
    "- random: gera numero aleatórios\n",
    "- numpy: \n",
    "- deap:\n",
    "- pyplot: plota gráficos para apresentação dos dados"
   ]
  },
  {
   "cell_type": "code",
   "execution_count": 1,
   "metadata": {},
   "outputs": [],
   "source": [
    "#Instalar e importar\n",
    "import random\n",
    "import numpy\n",
    "\n",
    "from deap import base\n",
    "from deap import creator\n",
    "from deap import algorithms\n",
    "from deap import tools\n",
    "import matplotlib.pyplot as pyplot\n"
   ]
  },
  {
   "cell_type": "markdown",
   "metadata": {},
   "source": []
  },
  {
   "cell_type": "markdown",
   "metadata": {},
   "source": [
    "## Criar um classe produto\n"
   ]
  },
  {
   "cell_type": "code",
   "execution_count": 2,
   "metadata": {},
   "outputs": [],
   "source": [
    "class Produto():\n",
    "    def __init__(self, nome, espaco, valor):\n",
    "        self.nome = nome\n",
    "        self.espaco = espaco\n",
    "        self.valor = valor"
   ]
  },
  {
   "cell_type": "markdown",
   "metadata": {},
   "source": [
    "## Cria uma lista com produtos as ser carregado no caminhão\n",
    "\n",
    "- Nome\n",
    "- espaço ocupado\n",
    "- valor"
   ]
  },
  {
   "cell_type": "code",
   "execution_count": 3,
   "metadata": {},
   "outputs": [],
   "source": [
    "# instância um vetor para armazenar os produtos\n",
    "lista_de_produtos = []\n",
    "# adiciona um produto no vetor\n",
    "lista_de_produtos.append(Produto(\"Geladeira Dako\", 0.751, 999.90))\n",
    "lista_de_produtos.append(Produto(\"iphone\", 0.0000899, 2911.12))\n",
    "lista_de_produtos.append(Produto(\"tv '55'\", 0.400, 4346.99))\n",
    "lista_de_produtos.append(Produto(\"tv '50'\", 0.290, 3999.90))\n",
    "lista_de_produtos.append(Produto(\"tv '42'\", 0.200, 2999.00))\n",
    "lista_de_produtos.append(Produto(\"Notebook dell\", 0.00350, 2499.90))\n",
    "lista_de_produtos.append(Produto(\"Ventilador Panasonic\", 0.496, 199.90))\n",
    "lista_de_produtos.append(Produto(\"Microondas Eletrolux\", 0.0424, 308.66))\n",
    "lista_de_produtos.append(Produto(\"Microondas LG\", 0.0544, 429.90))\n",
    "lista_de_produtos.append(Produto(\"Microondas Panasonic\", 0.0319, 299.29))\n",
    "lista_de_produtos.append(Produto(\"Geladeira Brastemp\", 0.635, 849.00))\n",
    "lista_de_produtos.append(Produto(\"Geladeira Consul\", 0.870, 1199.89))\n",
    "lista_de_produtos.append(Produto(\"Notebook lenovo\", 0.498, 1999.90))\n",
    "lista_de_produtos.append(Produto(\"Notebook Asus\", 0.527, 3999.00))"
   ]
  },
  {
   "cell_type": "code",
   "execution_count": 4,
   "metadata": {},
   "outputs": [
    {
     "name": "stdout",
     "output_type": "stream",
     "text": [
      "nome Geladeira Dako\n",
      "espaço 0.751\n",
      "valor 999.9\n"
     ]
    }
   ],
   "source": [
    "# primeiro item da lista\n",
    "# Vetor de espaço, nome, valores\n",
    "print(\"nome \"+lista_de_produtos[0].nome + \"\\n\" \n",
    "      + \"espaço \"+ str(lista_de_produtos[0].espaco) + \"\\n\"\n",
    "      + \"valor \"+ str(lista_de_produtos[0].valor))"
   ]
  },
  {
   "cell_type": "code",
   "execution_count": 5,
   "metadata": {},
   "outputs": [],
   "source": [
    "# cria vetor para facilitar o acesso aos elementos\n",
    "espacos = []\n",
    "nomes = [] \n",
    "valores = []"
   ]
  },
  {
   "cell_type": "code",
   "execution_count": 6,
   "metadata": {},
   "outputs": [],
   "source": [
    "# alimenta os vetores de nome, espaço e valores\n",
    "for produto in lista_de_produtos:\n",
    "    espacos.append(produto.espaco)\n",
    "    nomes.append(produto.nome)\n",
    "    valores.append(produto.valor)\n",
    "# limit de carga (no caso do caminhão)\n",
    "limite = 3"
   ]
  },
  {
   "cell_type": "code",
   "execution_count": 7,
   "metadata": {},
   "outputs": [
    {
     "name": "stdout",
     "output_type": "stream",
     "text": [
      "[0.751, 8.99e-05, 0.4, 0.29, 0.2, 0.0035, 0.496, 0.0424, 0.0544, 0.0319, 0.635, 0.87, 0.498, 0.527]\n",
      "\n",
      "\n",
      "['Geladeira Dako', 'iphone', \"tv '55'\", \"tv '50'\", \"tv '42'\", 'Notebook dell', 'Ventilador Panasonic', 'Microondas Eletrolux', 'Microondas LG', 'Microondas Panasonic', 'Geladeira Brastemp', 'Geladeira Consul', 'Notebook lenovo', 'Notebook Asus']\n",
      "\n",
      "\n",
      "[999.9, 2911.12, 4346.99, 3999.9, 2999.0, 2499.9, 199.9, 308.66, 429.9, 299.29, 849.0, 1199.89, 1999.9, 3999.0]\n"
     ]
    }
   ],
   "source": [
    "print(espacos)\n",
    "print(\"\\n\")\n",
    "print(nomes) \n",
    "print(\"\\n\")\n",
    "print(valores)"
   ]
  },
  {
   "cell_type": "code",
   "execution_count": 8,
   "metadata": {},
   "outputs": [],
   "source": [
    "#importação da biblioteca deep\n",
    "toolbox = base.Toolbox()\n",
    "#FitnessMax um problema de maximização\n",
    "# quanto maio o lucro melhor o resultado \n",
    "# weights \"normalização\" \n",
    "creator.create(\"FitnessMax\", base.Fitness, weights=(1.0,))\n",
    "\n",
    "# Define a função de ativação para cada individuo (no caso a função anterior FitnessMax\")\n",
    "# associação entre o individuo e a função de ativação\n",
    "# vai esta no formato de lista\n",
    "# Cada individuo é uma solução para o problema\n",
    "creator.create(\"Individual\", list, fitness= creator.FitnessMax)\n",
    "\n",
    "# Gera um random de primeira geração de valores 0 ou 1 dos genes\n",
    "# 0 não carrega o produto\n",
    "# 1 carrega o produto\n",
    "toolbox.register(\"attr_bool\", random.randint, 0,1)\n",
    "\n",
    "# representa os indivisos baseado no indivíduos criado anterior\n",
    "toolbox.register(\"individual\", tools.initRepeat, creator.Individual, toolbox.attr_bool, n=len(espacos))\n",
    "toolbox.register(\"population\", tools.initRepeat, list, toolbox.individual)"
   ]
  },
  {
   "cell_type": "code",
   "execution_count": 9,
   "metadata": {},
   "outputs": [],
   "source": [
    "# Função que avalias se o individuo é uma solução boa ou não\n",
    "# se o individuo ultrapassa ou não a carga do caminhão\n",
    "# função fitness\n",
    "def avaliacao(individual):\n",
    "    # valor total da carga\n",
    "    nota = 0\n",
    "    # Somatorio dos espaços utilizados\n",
    "    soma_espaços = 0\n",
    "    #percorrer os produtos do individuo para saber qual deve ser carregado\n",
    "    for i in range(len(individual)):\n",
    "        # caso seja 1 o valor do gene(produto)\n",
    "        # carregas no caminhão\n",
    "        if individual[i] == 1:\n",
    "            # soma os valores das cargas\n",
    "            nota += valores[i]\n",
    "            # valor do espaço utilizados\n",
    "            soma_espaços += espacos[i]\n",
    "    #verificar se o individuo excede o limite de carga       \n",
    "    if soma_espaços > limite:\n",
    "        #rebaixa a nota indicando uma solução ruim\n",
    "        nota = 1\n",
    "    # retorna o valor total da carga (dinheiro)\n",
    "    #dividido por 10000 para bater com o peso(melhores são indivíduos próximos de 1)\n",
    "    return nota / 100000\n"
   ]
  },
  {
   "cell_type": "code",
   "execution_count": 10,
   "metadata": {},
   "outputs": [
    {
     "data": {
      "text/plain": [
       "<deap.base.Toolbox at 0x1b5ada3c610>"
      ]
     },
     "execution_count": 10,
     "metadata": {},
     "output_type": "execute_result"
    }
   ],
   "source": [
    "toolbox"
   ]
  }
 ],
 "metadata": {
  "interpreter": {
   "hash": "e8ed702b162e1651ff1e9dfcbf8aeb1e7c9d4a1664244fc4ff3fd19b5ea94a9d"
  },
  "kernelspec": {
   "display_name": "Python 3.8.5 ('base')",
   "language": "python",
   "name": "python3"
  },
  "language_info": {
   "codemirror_mode": {
    "name": "ipython",
    "version": 3
   },
   "file_extension": ".py",
   "mimetype": "text/x-python",
   "name": "python",
   "nbconvert_exporter": "python",
   "pygments_lexer": "ipython3",
   "version": "3.8.5"
  },
  "orig_nbformat": 4
 },
 "nbformat": 4,
 "nbformat_minor": 2
}
